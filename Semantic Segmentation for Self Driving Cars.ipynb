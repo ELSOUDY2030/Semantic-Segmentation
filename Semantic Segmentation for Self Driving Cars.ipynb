{
  "cells": [
    {
      "cell_type": "code",
      "execution_count": null,
      "id": "50950cb1-4183-4765-9990-6f2d0ffb7e0f",
      "metadata": {
        "id": "50950cb1-4183-4765-9990-6f2d0ffb7e0f"
      },
      "outputs": [],
      "source": [
        "import tensorflow as tf\n",
        "import glob as gb\n",
        "import os\n",
        "import numpy as np\n",
        "import matplotlib.pyplot as plt\n",
        "import cv2\n",
        "import imgaug as ia\n",
        "import imgaug.augmenters as iaa\n",
        "import tensorflow.keras.layers as tfl"
      ]
    },
    {
      "cell_type": "code",
      "source": [
        "!pip install kaggle"
      ],
      "metadata": {
        "id": "dxnLDakzCKzp"
      },
      "id": "dxnLDakzCKzp",
      "execution_count": null,
      "outputs": []
    },
    {
      "cell_type": "code",
      "source": [
        "os.environ['KAGGLE_CONFIG_DIR'] = '/content'"
      ],
      "metadata": {
        "id": "eYLrD6E4Ckbn"
      },
      "id": "eYLrD6E4Ckbn",
      "execution_count": null,
      "outputs": []
    },
    {
      "cell_type": "code",
      "source": [
        "!kaggle datasets download -d kumaresanmanickavelu/lyft-udacity-challenge"
      ],
      "metadata": {
        "id": "CwtyiT6ZC7Qn"
      },
      "id": "CwtyiT6ZC7Qn",
      "execution_count": null,
      "outputs": []
    },
    {
      "cell_type": "code",
      "source": [
        "!unzip lyft-udacity-challenge.zip"
      ],
      "metadata": {
        "id": "83wJzvm8DVLi"
      },
      "id": "83wJzvm8DVLi",
      "execution_count": null,
      "outputs": []
    },
    {
      "cell_type": "code",
      "source": [
        "classes = ['dataB', 'dataD', 'dataA', 'dataC', 'dataE']"
      ],
      "metadata": {
        "id": "qfjt3m4uEQgo"
      },
      "id": "qfjt3m4uEQgo",
      "execution_count": null,
      "outputs": []
    },
    {
      "cell_type": "code",
      "execution_count": null,
      "id": "8824c3b3-5907-42e4-9d36-9e7798e6b484",
      "metadata": {
        "id": "8824c3b3-5907-42e4-9d36-9e7798e6b484"
      },
      "outputs": [],
      "source": [
        "img_path =   [f\"{os.path.join('/content/', i, i, 'CameraRGB')}/{x}\" for i in classes for x in os.listdir(os.path.join('/content/', i, i, 'CameraRGB')) if not x.startswith('.')]\n",
        "masks_path = [f\"{os.path.join('/content/', i, i, 'CameraSeg')}/{x}\" for i in classes for x in os.listdir(os.path.join('/content/', i, i, 'CameraSeg')) if not x.startswith('.')]"
      ]
    },
    {
      "cell_type": "code",
      "execution_count": null,
      "id": "16b26424-2a46-40dd-8b25-139e6f578932",
      "metadata": {
        "id": "16b26424-2a46-40dd-8b25-139e6f578932"
      },
      "outputs": [],
      "source": [
        "nub = 5\n",
        "\n",
        "\n",
        "f, axis = plt.subplots(nub,2, figsize=(20,20))\n",
        "\n",
        "for i,x in enumerate(np.random.random_integers(0,5000,nub)):\n",
        "    images = cv2.imread(img_path[x])\n",
        "    masks = cv2.imread(masks_path[x])\n",
        "    masks = tf.math.reduce_max(masks, axis=-1, keepdims=True)\n",
        "    axis[i][0].imshow(images)\n",
        "    axis[i][1].imshow(masks)\n",
        "\n",
        "plt.show()\n"
      ]
    },
    {
      "cell_type": "code",
      "execution_count": null,
      "id": "1f893fca-b0dd-4f6e-a6f8-1650bca76fdc",
      "metadata": {
        "id": "1f893fca-b0dd-4f6e-a6f8-1650bca76fdc"
      },
      "outputs": [],
      "source": [
        "imshape = (256, 256, 3)\n",
        "numclasses = 13\n",
        "\n",
        "\n",
        "\n",
        "ia.seed(1)\n",
        "\n",
        "seq = iaa.Sequential([\n",
        "    # apply the following augmenters to most images\n",
        "    #iaa.Rotate(rotate=(-90,90)),\n",
        "    # iaa.Affine(rotate=(-90,90)),\n",
        "    iaa.Crop(px=(0, 16)),\n",
        "    iaa.Fliplr(0.5),\n",
        "    iaa.Multiply(mul=(0.6, 1.3)),\n",
        "    # iaa.Sometimes(0.5, iaa.GaussianBlur(sigma=(0,6)))\n",
        "    ],  random_order=True)\n",
        "\n",
        "\n",
        "\n",
        "\n",
        "class DataGen(tf.keras.utils.Sequence):\n",
        "\n",
        "    def __init__(self,image_paths, annot_paths, batch_size=32, shuffle=True, augment=False):\n",
        "\n",
        "        self.image_paths = image_paths\n",
        "        self.annot_paths = annot_paths\n",
        "        self.batch_size = batch_size\n",
        "        self.shuffle = shuffle\n",
        "        self.augment = augment\n",
        "        self.on_epoch_end()\n",
        "\n",
        "\n",
        "    def __len__(self):\n",
        "        # Denotes the number of batches per epoch\n",
        "        return int(np.floor(len(self.image_paths) / self.batch_size))\n",
        "\n",
        "\n",
        "    def __getitem__(self, index):\n",
        "        # Generate indexes of the batch\n",
        "        indexes = self.indexes[index*self.batch_size:(index+1)*self.batch_size]\n",
        "\n",
        "        image_paths = [self.image_paths[k] for k in indexes]\n",
        "        annot_paths = [self.annot_paths[k] for k in indexes]\n",
        "\n",
        "        X, y = self.__data_generation(image_paths, annot_paths)\n",
        "\n",
        "        return X, y\n",
        "\n",
        "\n",
        "    def on_epoch_end(self):\n",
        "        # Updates indexes after each epoch\n",
        "        self.indexes = np.arange(len(self.image_paths))\n",
        "        if self.shuffle == True:\n",
        "            np.random.shuffle(self.indexes)\n",
        "\n",
        "\n",
        "\n",
        "\n",
        "\n",
        "    def __data_generation(self, image_paths, annot_paths):\n",
        "        X = np.empty((self.batch_size, imshape[0],imshape[1],imshape[2]), dtype= np.float32)\n",
        "        Y = np.empty((self.batch_size, imshape[0],imshape[1],numclasses), dtype= np.float32)\n",
        "        for i, (im_path, an_path) in enumerate(zip(image_paths, annot_paths)):\n",
        "            img = cv2.imread(im_path,1)\n",
        "            img = cv2.cvtColor(img, cv2.COLOR_BGR2RGB)\n",
        "            mask = cv2.imread(an_path)\n",
        "            img = cv2.resize(img, (imshape[1], imshape[0]))\n",
        "            mask = cv2.resize(mask, (imshape[1], imshape[0]))\n",
        "            mask = tf.math.reduce_max(mask, axis=-1)\n",
        "            mask = tf.one_hot(mask, depth=13, dtype=tf.uint8)\n",
        "            mask = np.array(mask)\n",
        "\n",
        "\n",
        "\n",
        "            #Data Augmentation\n",
        "            # aug_det = seq.to_deterministic()\n",
        "            # img = aug_det.augment_image(img)\n",
        "            # mask = aug_det.augment_image(mask)\n",
        "\n",
        "            X[i,] = img.astype(np.float32)/255\n",
        "            Y[i,] = mask\n",
        "        return X,Y\n",
        "\n",
        "\n",
        "\n",
        "\n",
        "\n",
        "\n",
        "\n",
        "dg = DataGen(img_path, masks_path, batch_size=16)"
      ]
    },
    {
      "cell_type": "code",
      "source": [
        "x,y = dg.__getitem__(1)"
      ],
      "metadata": {
        "id": "uEPwYq5Nb2L9"
      },
      "id": "uEPwYq5Nb2L9",
      "execution_count": null,
      "outputs": []
    },
    {
      "cell_type": "code",
      "source": [
        "np.unique(y)"
      ],
      "metadata": {
        "id": "MzjgtK_mcF6g"
      },
      "id": "MzjgtK_mcF6g",
      "execution_count": null,
      "outputs": []
    },
    {
      "cell_type": "code",
      "source": [
        "plt.imshow(x[1])"
      ],
      "metadata": {
        "id": "HlvnWYgpc7GE"
      },
      "id": "HlvnWYgpc7GE",
      "execution_count": null,
      "outputs": []
    },
    {
      "cell_type": "code",
      "execution_count": null,
      "id": "d5ee0d37-3cdd-4c07-9da7-e9cd9fcd20fb",
      "metadata": {
        "id": "d5ee0d37-3cdd-4c07-9da7-e9cd9fcd20fb"
      },
      "outputs": [],
      "source": [
        "import tensorflow as tf\n",
        "from tensorflow.keras.models import Model, load_model\n",
        "from tensorflow.keras.layers import *\n",
        "from tensorflow.keras.callbacks import EarlyStopping, ModelCheckpoint, ReduceLROnPlateau\n",
        "from tensorflow.keras import backend as K"
      ]
    },
    {
      "cell_type": "code",
      "source": [
        "import tensorflow as tf\n",
        "from tensorflow.keras import layers, models\n",
        "\n",
        "def conv_block(inputs, filters, kernel_size=3, activation='relu', padding='same'):\n",
        "    x = Conv2D(filters, kernel_size, activation=activation, padding=padding)(inputs)\n",
        "    x = BatchNormalization()(x)\n",
        "    x = Conv2D(filters, kernel_size, activation=activation, padding=padding)(x)\n",
        "    x = BatchNormalization()(x)\n",
        "    return x\n",
        "\n",
        "def unet_model(input_shape, num_classes):\n",
        "    inputs = tf.keras.Input(shape=input_shape)\n",
        "\n",
        "    # Encoder\n",
        "    conv1 = conv_block(inputs, 64)\n",
        "    pool1 = MaxPooling2D(pool_size=(2, 2))(conv1)\n",
        "\n",
        "    conv2 = conv_block(pool1, 128)\n",
        "    pool2 = MaxPooling2D(pool_size=(2, 2))(conv2)\n",
        "\n",
        "    conv3 = conv_block(pool2, 256)\n",
        "    pool3 = MaxPooling2D(pool_size=(2, 2))(conv3)\n",
        "\n",
        "    conv4 = conv_block(pool3, 512)\n",
        "    pool4 = MaxPooling2D(pool_size=(2, 2))(conv4)\n",
        "\n",
        "    # Bottleneck\n",
        "    conv5 = conv_block(pool4, 1024)\n",
        "\n",
        "    # Decoder\n",
        "    up1 = Conv2DTranspose(512, (2, 2), strides=(2, 2), padding='same')(conv5)\n",
        "    up1 = concatenate([up1, conv4], axis=-1)\n",
        "    up1 = conv_block(up1, 512)\n",
        "\n",
        "    up2 = Conv2DTranspose(256, (2, 2), strides=(2, 2), padding='same')(up1)\n",
        "    up2 = concatenate([up2, conv3], axis=-1)\n",
        "    up2 = conv_block(up2, 256)\n",
        "\n",
        "    up3 = Conv2DTranspose(128, (2, 2), strides=(2, 2), padding='same')(up2)\n",
        "    up3 = concatenate([up3, conv2], axis=-1)\n",
        "    up3 = conv_block(up3, 128)\n",
        "\n",
        "    up4 = Conv2DTranspose(64, (2, 2), strides=(2, 2), padding='same')(up3)\n",
        "    up4 = concatenate([up4, conv1], axis=-1)\n",
        "    up4 = conv_block(up4, 64)\n",
        "\n",
        "    # Output\n",
        "    outputs = Conv2D(num_classes, 1, activation='softmax')(up4)\n",
        "\n",
        "    model = Model(inputs, outputs)\n",
        "    return model\n",
        "\n",
        "patch_size = (256, 256)\n",
        "stride = 128\n",
        "\n",
        "input_shape = (256, 256, 3)  # Adjust based on your input data shape (e.g., RGB images)\n",
        "num_classes = 13  # Adjust based on the number of segmentation classes in your dataset\n",
        "\n"
      ],
      "metadata": {
        "id": "RBg65JSUKBbl"
      },
      "id": "RBg65JSUKBbl",
      "execution_count": null,
      "outputs": []
    },
    {
      "cell_type": "code",
      "execution_count": null,
      "id": "ed2cba00-e933-4801-a996-73951320759c",
      "metadata": {
        "id": "ed2cba00-e933-4801-a996-73951320759c"
      },
      "outputs": [],
      "source": [
        "#reate the U-Net model\n",
        "model = unet_model(input_shape, num_classes)\n",
        "\n",
        "# Compile the model\n",
        "model.compile(optimizer='adam', loss='categorical_crossentropy', metrics=['accuracy'])"
      ]
    },
    {
      "cell_type": "code",
      "execution_count": null,
      "id": "c7b72d35-3c2c-4392-9341-076abdacf88b",
      "metadata": {
        "id": "c7b72d35-3c2c-4392-9341-076abdacf88b"
      },
      "outputs": [],
      "source": [
        "def dice(y_true, y_pred, smooth=1.):\n",
        "    y_true_f = K.flatten(y_true)\n",
        "    y_pred_f = K.flatten(y_pred)\n",
        "    intersection = K.sum(y_true_f * y_pred_f)\n",
        "    return (2. * intersection + smooth) / (K.sum(y_true_f) + K.sum(y_pred_f) + smooth)\n",
        "\n",
        "\n",
        "def dice_coefficient(y_true, y_pred, smooth=1):\n",
        "    intersection = K.sum(y_true * y_pred)\n",
        "    union = K.sum(y_true) + K.sum(y_pred)\n",
        "    dice = (2.0 * intersection + smooth) / (union + smooth)\n",
        "    return dice\n",
        "\n",
        "\n",
        "\n",
        "\n"
      ]
    },
    {
      "cell_type": "code",
      "execution_count": null,
      "id": "d1e462bc-1eed-4a6b-8f0f-6f9cb6616e86",
      "metadata": {
        "id": "d1e462bc-1eed-4a6b-8f0f-6f9cb6616e86"
      },
      "outputs": [],
      "source": [
        "model.compile(optimizer='Adam',\n",
        "              loss='categorical_crossentropy',\n",
        "              metrics=[ 'accuracy',dice_coefficient])\n",
        "\n",
        "checkpoint = ModelCheckpoint(os.path.join( 'unet.h5'), monitor='dice', verbose=1, mode='max',\n",
        "                             save_best_only=True, save_weights_only=True)\n",
        "\n",
        "\n",
        "model.fit_generator(generator=dg,\n",
        "                    steps_per_epoch=len(dg),\n",
        "                    epochs=500, verbose=1,\n",
        "                    callbacks=[checkpoint])"
      ]
    },
    {
      "cell_type": "code",
      "execution_count": null,
      "id": "613ca335-4bd3-4fb2-9ae7-72a1b2e02630",
      "metadata": {
        "id": "613ca335-4bd3-4fb2-9ae7-72a1b2e02630"
      },
      "outputs": [],
      "source": []
    },
    {
      "cell_type": "markdown",
      "source": [],
      "metadata": {
        "id": "_I50cp6hNUsD"
      },
      "id": "_I50cp6hNUsD"
    }
  ],
  "metadata": {
    "kernelspec": {
      "display_name": "tfg",
      "language": "python",
      "name": "tfg"
    },
    "language_info": {
      "codemirror_mode": {
        "name": "ipython",
        "version": 3
      },
      "file_extension": ".py",
      "mimetype": "text/x-python",
      "name": "python",
      "nbconvert_exporter": "python",
      "pygments_lexer": "ipython3",
      "version": "3.10.12"
    },
    "colab": {
      "private_outputs": true,
      "provenance": [],
      "gpuType": "T4",
      "cell_execution_strategy": "setup"
    },
    "accelerator": "GPU"
  },
  "nbformat": 4,
  "nbformat_minor": 5
}